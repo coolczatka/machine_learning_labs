{
 "cells": [
  {
   "cell_type": "markdown",
   "metadata": {},
   "source": [
    "\n",
    "# Przygotowanie"
   ]
  },
  {
   "cell_type": "markdown",
   "metadata": {},
   "source": [
    "Przygotowanie\n",
    "Przed rozpoczęciem pracy z notatnikiem proszę zmienić jego nazwę dodając na początku numer albumu, imię i nazwisko. {nr_albumu}_{imię}_{nazwisko}_{nazwa}\n",
    "\n",
    "Po wykonaniu wszystkich zadań proszę przesłać wypełniony notatnik przez platformę ELF za pomocą formularza \"Prześlij projekt\" w odpowiedniej sekcji."
   ]
  },
  {
   "cell_type": "markdown",
   "metadata": {},
   "source": [
    "# Support Vector Machine"
   ]
  },
  {
   "cell_type": "markdown",
   "metadata": {},
   "source": [
    "Jest to jeden z najbardziej rozpowszechnionych i wszechstronnych modeli uczenia maszynowego. Z jego uzyciem dokonac mozna klasyfikacji liniowej (SVC), nieliniowej jak i regresji (SVR). Na poniższej grafice przedstawione zostało działanie klasyfikatora."
   ]
  },
  {
   "cell_type": "markdown",
   "metadata": {},
   "source": [
    "![svc](imgs/svc.png)"
   ]
  },
  {
   "cell_type": "markdown",
   "metadata": {},
   "source": [
    "Analizujac grafike dostrzec mozna dwie oddzielne klasy oddzielone za pomoca prostej. Widoczna linia ciagła rozdziela klasy, a przerywane linie oznaczają margines, czyli możliwe najdalsze oddalenie elementu (np. nowego) jaki zakwalifikowany\n",
    "zostanie do danej klasy. Maszyny SVM czułe sa na skale danych, przed ich uzyciem zawsze powinna zostać przeprowadzona normalizacja danych (np. min-max, lub standaryzacja).\n",
    "\n",
    "![svc_example](imgs/svc2.jpg)\n",
    "\n",
    "Równowage pomiedzy marginesami możemy regulować za pomoca hipermarapetru\n",
    "C. Mniejsze jego wartości poszerzają granice, jednocześnie wprowadzając\n",
    "więcej jej naruszeń. Im margines jest szerszy, tym własciwosci generalizujace\n",
    "jakie posiada klasyfikator będę większe. Mniejsza staje się podatność na przeuczenie\n",
    "(ang. overfitting), ale zmniejsza się skuteczność klasyfikatora. Szukany jest\n",
    "taki klasyfikator, który podzieli przestrzeń na dwa rozłaczne zbiory odpowiadajace\n",
    "dwóm klasom, w możliwie optymalny sposób. Podejście opiera się na\n",
    "znalezieniu granicy decyzyjnej.\n",
    "\n",
    "Wektory nośne (Support vectors) są to obserwacje (data points), które wystepują najbliżej hiperpłaszczyzny. Punkty te, pomagają lepiej wyznaczyć linię separacji pomiędzy klasami poprzez obliczenie marginesów. Są to najbardziej znaczace obserwacje ze zbioru z punktu widzenia konstrukcji klasyfikatora.\n",
    "\n",
    "Warto zaznaczyć, że za pomocą klasyfikatora SVC można klasyfikaować dane, które nie są linowo separowalne. Można to osiągnąć przez tzw \"sztuczkę kernelową\", dzięki czemu możliwe jest zmapowanie obserwacji do wielowymiarowej przestrzeni. Klasyfikator z biblioteki Sklearn posiada parametr *kernel*, który pozwala na zmianę jądra. Dodatkowo, parametr *gamma* pozwala na modyfikację działania samego kernela.\n",
    "\n",
    "Warto zaznaczyć, że SVC dobrze nadaje się do niewielkich zbiorów danych, gdyż w przypadku dużej ilości staję się on mało wydajny."
   ]
  },
  {
   "cell_type": "markdown",
   "metadata": {},
   "source": [
    "Funkcja jaka jest minimalizowana podczas działania klasyfikatora wygląda następująco:\n",
    "\n",
    "\\begin{equation}\n",
    "min C \\sum^m_{i=1}[y^{(i)}cost_{1}(\\theta^{T}x^{(i)}) - (1 - y^{(i)})cost_{0}(\\theta^{T}x^{(i)})] + \\frac{1}{2} \\sum^{n}_{i=1}\\theta^{2}_{j}\n",
    "\\end{equation}"
   ]
  },
  {
   "cell_type": "markdown",
   "metadata": {},
   "source": [
    "## Zadanie 0 "
   ]
  },
  {
   "cell_type": "markdown",
   "metadata": {},
   "source": [
    "Wczytanie danych ze zbioru oraz wizualizacja."
   ]
  },
  {
   "cell_type": "code",
   "execution_count": 98,
   "metadata": {},
   "outputs": [
    {
     "data": {
      "text/html": [
       "<div>\n",
       "<style scoped>\n",
       "    .dataframe tbody tr th:only-of-type {\n",
       "        vertical-align: middle;\n",
       "    }\n",
       "\n",
       "    .dataframe tbody tr th {\n",
       "        vertical-align: top;\n",
       "    }\n",
       "\n",
       "    .dataframe thead th {\n",
       "        text-align: right;\n",
       "    }\n",
       "</style>\n",
       "<table border=\"1\" class=\"dataframe\">\n",
       "  <thead>\n",
       "    <tr style=\"text-align: right;\">\n",
       "      <th></th>\n",
       "      <th>Waga</th>\n",
       "      <th>Wzrost</th>\n",
       "      <th>Plec</th>\n",
       "    </tr>\n",
       "  </thead>\n",
       "  <tbody>\n",
       "    <tr>\n",
       "      <th>0</th>\n",
       "      <td>55</td>\n",
       "      <td>160</td>\n",
       "      <td>Kobieta</td>\n",
       "    </tr>\n",
       "    <tr>\n",
       "      <th>1</th>\n",
       "      <td>78</td>\n",
       "      <td>180</td>\n",
       "      <td>Mezczyzna</td>\n",
       "    </tr>\n",
       "    <tr>\n",
       "      <th>2</th>\n",
       "      <td>55</td>\n",
       "      <td>150</td>\n",
       "      <td>Kobieta</td>\n",
       "    </tr>\n",
       "    <tr>\n",
       "      <th>3</th>\n",
       "      <td>99</td>\n",
       "      <td>196</td>\n",
       "      <td>Mezczyzna</td>\n",
       "    </tr>\n",
       "    <tr>\n",
       "      <th>4</th>\n",
       "      <td>90</td>\n",
       "      <td>180</td>\n",
       "      <td>Mezczyzna</td>\n",
       "    </tr>\n",
       "  </tbody>\n",
       "</table>\n",
       "</div>"
      ],
      "text/plain": [
       "   Waga  Wzrost       Plec\n",
       "0    55     160    Kobieta\n",
       "1    78     180  Mezczyzna\n",
       "2    55     150    Kobieta\n",
       "3    99     196  Mezczyzna\n",
       "4    90     180  Mezczyzna"
      ]
     },
     "execution_count": 98,
     "metadata": {},
     "output_type": "execute_result"
    }
   ],
   "source": [
    "import pandas as pd\n",
    "\n",
    "data_input = pd.read_csv('datasets/Ankieta.csv')\n",
    "data_input.head()"
   ]
  },
  {
   "cell_type": "code",
   "execution_count": 99,
   "metadata": {},
   "outputs": [
    {
     "data": {
      "image/png": "[encoded data removed]",
      "text/plain": [
       "<Figure size 432x288 with 1 Axes>"
      ]
     },
     "metadata": {
      "needs_background": "light"
     },
     "output_type": "display_data"
    }
   ],
   "source": [
    "import matplotlib.pyplot as plt\n",
    "from matplotlib import colors\n",
    "\n",
    "x = data_input['Plec'].map(lambda x: 1 if x == 'Kobieta' else 0)\n",
    "y = data_input['Waga']\n",
    "z = data_input['Wzrost']\n",
    "\n",
    "data_input['Plec'] = data_input['Plec'].map(lambda x: 1 if x == 'Kobieta' else 0)\n",
    "\n",
    "plt.scatter(y, z, c=x, cmap=colors.ListedColormap(['red', 'green']))\n",
    "plt.xlabel('Waga')\n",
    "plt.ylabel('Wzrost')\n",
    "plt.title('Ankieta')\n",
    "plt.show()"
   ]
  },
  {
   "cell_type": "code",
   "execution_count": 100,
   "metadata": {},
   "outputs": [
    {
     "name": "stderr",
     "output_type": "stream",
     "text": [
      "<ipython-input-100-09f62b60a45a>:4: UserWarning: To output multiple subplots, the figure containing the passed axes is being cleared\n",
      "  data_input.hist(ax=ax)\n"
     ]
    },
    {
     "data": {
      "text/plain": [
       "array([[<matplotlib.axes._subplots.AxesSubplot object at 0x000002E1F7043100>,\n",
       "        <matplotlib.axes._subplots.AxesSubplot object at 0x000002E1F79480D0>],\n",
       "       [<matplotlib.axes._subplots.AxesSubplot object at 0x000002E1F797B7F0>,\n",
       "        <matplotlib.axes._subplots.AxesSubplot object at 0x000002E1F79A7FA0>]],\n",
       "      dtype=object)"
      ]
     },
     "execution_count": 100,
     "metadata": {},
     "output_type": "execute_result"
    },
    {
     "data": {
      "image/png": "[encoded data removed]",
      "text/plain": [
       "<Figure size 720x720 with 4 Axes>"
      ]
     },
     "metadata": {
      "needs_background": "light"
     },
     "output_type": "display_data"
    }
   ],
   "source": [
    "import matplotlib.pyplot as plt\n",
    "fig = plt.figure(figsize = (10,10))\n",
    "ax = fig.gca()\n",
    "data_input.hist(ax=ax)"
   ]
  },
  {
   "cell_type": "code",
   "execution_count": 101,
   "metadata": {},
   "outputs": [
    {
     "data": {
      "text/plain": [
       "<matplotlib.axes._subplots.AxesSubplot at 0x2e1f7ca4c40>"
      ]
     },
     "execution_count": 101,
     "metadata": {},
     "output_type": "execute_result"
    },
    {
     "data": {
      "image/png": "[encoded data removed]",
      "text/plain": [
       "<Figure size 432x288 with 1 Axes>"
      ]
     },
     "metadata": {
      "needs_background": "light"
     },
     "output_type": "display_data"
    }
   ],
   "source": [
    "data_input.boxplot()"
   ]
  },
  {
   "cell_type": "markdown",
   "metadata": {},
   "source": [
    "Na bazie wykresów box-plot można stwierdzić, że dane posiadają różniące się zakresy, co powoduje potrzebę ich skalowania. Warto zauważyć również, że rozkład klas w zbiorze jest równomierny (patrz: histogram)"
   ]
  },
  {
   "cell_type": "markdown",
   "metadata": {},
   "source": [
    "## Zadanie 1"
   ]
  },
  {
   "cell_type": "markdown",
   "metadata": {},
   "source": [
    "Proszę dokonać normalizacji zbioru danych za pomocą standaryzacji oraz narysować wykres box-plot dla wszystkich zmiennych. W jaki sposób zmieniły się dane?"
   ]
  },
  {
   "cell_type": "code",
   "execution_count": 102,
   "metadata": {
    "scrolled": true
   },
   "outputs": [
    {
     "data": {
      "text/plain": [
       "<matplotlib.axes._subplots.AxesSubplot at 0x2e1f5b5ab80>"
      ]
     },
     "execution_count": 102,
     "metadata": {},
     "output_type": "execute_result"
    },
    {
     "data": {
      "image/png": "[encoded data removed]",
      "text/plain": [
       "<Figure size 432x288 with 1 Axes>"
      ]
     },
     "metadata": {
      "needs_background": "light"
     },
     "output_type": "display_data"
    }
   ],
   "source": [
    "#INSERT YOUR CODE HERE\n",
    "from sklearn import preprocessing\n",
    "\n",
    "values = data_input.values #returns a numpy array\n",
    "min_max_scaler = preprocessing.MinMaxScaler()\n",
    "data_input_scaled = min_max_scaler.fit_transform(values)\n",
    "df = pd.DataFrame(data_input_scaled)\n",
    "\n",
    "df.boxplot()"
   ]
  },
  {
   "cell_type": "markdown",
   "metadata": {},
   "source": [
    "### Odpowiedź\n",
    "Po normalizacji zmienne należą do zakresu od 0 do 1"
   ]
  },
  {
   "cell_type": "markdown",
   "metadata": {},
   "source": [
    "## Zadanie 2 \n",
    "W tym zadaniu należy dokonać podziału zbioru danych na uczący oraz testowy. Zbiór uczący będzie służył do treningu klasyfikatora, a testowy do obliczenia ostatecznej skuteczności klasyfikacji. Prosze, by 80% próbek znalazło się w zbiorze uczącym, a 20% w testowym."
   ]
  },
  {
   "cell_type": "code",
   "execution_count": 103,
   "metadata": {},
   "outputs": [],
   "source": [
    "# YOUR CODE HERE\n",
    "\n",
    "from sklearn.model_selection import train_test_split\n",
    "X = data_input_scaled[:, :2]\n",
    "Y = data_input_scaled[:, 2]\n",
    "\n",
    "X_train, X_test, y_train, y_test = train_test_split(X,Y,test_size=0.2)\n"
   ]
  },
  {
   "cell_type": "markdown",
   "metadata": {},
   "source": [
    "## Zadanie 3"
   ]
  },
  {
   "cell_type": "markdown",
   "metadata": {},
   "source": [
    "\n",
    "W tym zadaniu należy dokonać klasyfikacji danych za pomocą klasyfikatora SVC. Proszę obliczyć skuteczność klasyfikatora na danych po, oraz przed standaryzacją i porównać wyniki."
   ]
  },
  {
   "cell_type": "code",
   "execution_count": 104,
   "metadata": {},
   "outputs": [
    {
     "name": "stdout",
     "output_type": "stream",
     "text": [
      "1.0\n",
      "0.75\n"
     ]
    }
   ],
   "source": [
    "from sklearn.svm import SVC\n",
    "import numpy as np\n",
    "#YOUR CODE HERE\n",
    "\n",
    "def acc(clf, X_test, y_test):\n",
    "    al = len(y_test)\n",
    "    predicted = clf.predict(X_test)\n",
    "    not_ok = sum(np.logical_xor(y_test, predicted))\n",
    "    return (al-not_ok)/al\n",
    "        \n",
    "\n",
    "clf = SVC()\n",
    "clf.fit(X_train, y_train)\n",
    "print(acc(clf, X_test, y_test))\n",
    "\n",
    "clf_unnormalized = SVC()\n",
    "Xun = values[:, :2]\n",
    "Yun = values[:, 2]\n",
    "\n",
    "X_train_un, X_test_un, y_train_un, y_test_un = train_test_split(Xun,Yun,test_size=0.2)\n",
    "clf_unnormalized.fit(X_train_un, y_train_un)\n",
    "\n",
    "print(acc(clf_unnormalized, X_test_un, y_test_un))\n"
   ]
  },
  {
   "cell_type": "markdown",
   "metadata": {},
   "source": [
    "### ODPOWIEDŹ\n",
    "Przed standaryzacją klasyfikator osiąga 50% skuteczności natomiast po standaryzacji 100%"
   ]
  },
  {
   "cell_type": "markdown",
   "metadata": {},
   "source": [
    "## Zadanie 4"
   ]
  },
  {
   "cell_type": "markdown",
   "metadata": {},
   "source": [
    "#### Proszę dobrać odpowiedni parametr C (proszę spróbować z zakresu -1, 1 z krokiem co 0.1). Dla każdego C proszę wyrysować hiperpłaszczyznę utworzoną przez klasyfikator (w formie animimacji, lub inaczej). Proszę przedstawić na wykresie jak zmieniała się skuteczność klasyfikatora w zależności od parametru C. Jakie wnioski można wyciągnąć? Jak wpływa parametr C na wynik?"
   ]
  },
  {
   "cell_type": "code",
   "execution_count": 105,
   "metadata": {},
   "outputs": [
    {
     "name": "stdout",
     "output_type": "stream",
     "text": [
      "[0.05 0.1  0.15 0.2  0.25 0.3  0.35 0.4  0.45 0.5  0.55 0.6  0.65 0.7\n",
      " 0.75 0.8  0.85 0.9  0.95 1.   1.05 1.1  1.15 1.2  1.25 1.3  1.35 1.4\n",
      " 1.45 1.5  1.55 1.6  1.65 1.7  1.75 1.8  1.85 1.9  1.95]\n"
     ]
    },
    {
     "data": {
      "text/plain": [
       "[<matplotlib.lines.Line2D at 0x2e1f55dd3a0>]"
      ]
     },
     "execution_count": 105,
     "metadata": {},
     "output_type": "execute_result"
    },
    {
     "data": {
      "image/png": "[encoded data removed]",
      "text/plain": [
       "<Figure size 432x288 with 1 Axes>"
      ]
     },
     "metadata": {
      "needs_background": "light"
     },
     "output_type": "display_data"
    }
   ],
   "source": [
    "#YOUR CODE HERE\n",
    "#PARAMETR C NIE MOŻE BYĆ MNIEJSZY ANI RÓWNY 0 WIĘC ZADANIE ZOSTAŁO WYKONANE DLA c z zakresu (0.1, 2)\n",
    "cRange = np.arange(.05, 2, .05)\n",
    "import matplotlib.pyplot as plt\n",
    "aclist = []\n",
    "best_clf_acc = 0\n",
    "best_clf = None\n",
    "\n",
    "for c in cRange:\n",
    "    clf = SVC(C=c)\n",
    "    clf.fit(X_train, y_train)\n",
    "    ac = acc(clf, X_train, y_train)\n",
    "    aclist.append(ac)\n",
    "    if best_clf_acc < ac:\n",
    "        best_clf_acc = ac\n",
    "        best_clf = clf\n",
    "    \n",
    "    \n",
    "#     ax = plt.gca()\n",
    "#     xlim = ax.get_xlim()\n",
    "#     ylim = ax.get_ylim()\n",
    "\n",
    "#     # create grid to evaluate model\n",
    "#     xx = np.linspace(-0.1, 1.1, 60)\n",
    "#     yy = np.linspace(-0.1, 1.1, 60)\n",
    "#     YY, XX = np.meshgrid(yy, xx)\n",
    "#     xy = np.vstack([XX.ravel(), YY.ravel()]).T\n",
    "#     Z = clf.decision_function(xy).reshape(XX.shape)\n",
    "\n",
    "#     # plot decision boundary and margins\n",
    "#     ax.contour(XX, YY, Z, colors='r', levels=[0])\n",
    "#     # plot support vectors\n",
    "#     plt.scatter(X_test[:, 0], X_test[:, 1], c=y_test)\n",
    "#     plt.show()\n",
    "print(cRange)\n",
    "plt.figure()\n",
    "plt.plot(cRange, aclist)"
   ]
  },
  {
   "cell_type": "markdown",
   "metadata": {},
   "source": [
    "### Odpowiedź\n",
    "Parametr c wpływa dość znacząco na wynik, można nim poprawić skuteczność o ponad 40% w zakresie od 0 do 2."
   ]
  },
  {
   "cell_type": "markdown",
   "metadata": {},
   "source": [
    "### Dla zbioru *dataR2* proszę dokonać podobnej analizy danych. Opis zbioru: https://archive.ics.uci.edu/ml/datasets/Breast+Cancer+Coimbra"
   ]
  },
  {
   "cell_type": "markdown",
   "metadata": {},
   "source": [
    "## Zadanie 5"
   ]
  },
  {
   "cell_type": "markdown",
   "metadata": {},
   "source": [
    "Proszę zwizualizować dane dla 2 dowolnych zmiennych ze zbioru"
   ]
  },
  {
   "cell_type": "code",
   "execution_count": 114,
   "metadata": {},
   "outputs": [
    {
     "data": {
      "image/png": "[encoded data removed]",
      "text/plain": [
       "<Figure size 432x288 with 1 Axes>"
      ]
     },
     "metadata": {
      "needs_background": "light"
     },
     "output_type": "display_data"
    }
   ],
   "source": [
    "#YOUR CODE HERE\n",
    "data_input = pd.read_csv('datasets/dataR2.csv')\n",
    "\n",
    "x = data_input['BMI']\n",
    "y = data_input['Glucose']\n",
    "z = data_input['Classification']\n",
    "\n",
    "plt.scatter(x, y, c=z, cmap=colors.ListedColormap(['red', 'green']))\n",
    "plt.xlabel('BMI')\n",
    "plt.ylabel('Glukoza')\n",
    "plt.title('Classification')\n",
    "plt.show()"
   ]
  },
  {
   "cell_type": "markdown",
   "metadata": {},
   "source": [
    "## Zadanie 6"
   ]
  },
  {
   "cell_type": "markdown",
   "metadata": {},
   "source": [
    "Proszę dokonać standaryzacji danych"
   ]
  },
  {
   "cell_type": "code",
   "execution_count": 115,
   "metadata": {},
   "outputs": [
    {
     "data": {
      "text/plain": [
       "<matplotlib.axes._subplots.AxesSubplot at 0x2e1f7556310>"
      ]
     },
     "execution_count": 115,
     "metadata": {},
     "output_type": "execute_result"
    },
    {
     "data": {
      "image/png": "[encoded data removed]",
      "text/plain": [
       "<Figure size 432x288 with 1 Axes>"
      ]
     },
     "metadata": {
      "needs_background": "light"
     },
     "output_type": "display_data"
    }
   ],
   "source": [
    "#YOUR CODE HERE\n",
    "from sklearn import preprocessing\n",
    "\n",
    "values = data_input[['Glucose', 'Adiponectin', 'Classification']]\n",
    "min_max_scaler = preprocessing.MinMaxScaler()\n",
    "data_input_scaled = min_max_scaler.fit_transform(values)\n",
    "df = pd.DataFrame(data_input_scaled)\n",
    "\n",
    "df.boxplot()"
   ]
  },
  {
   "cell_type": "markdown",
   "metadata": {},
   "source": [
    "## Zadanie 7"
   ]
  },
  {
   "cell_type": "markdown",
   "metadata": {},
   "source": [
    "Trenowanie klasyfikatora. Proszę dokonać treningu klasyfikatora na zbiorze treningowym (X_train, y_train). Proszę użyć różnych wartości parametru C, gamma oraz kernel. Pełna dokumentacja klasyfikatora: https://scikit-learn.org/stable/modules/generated/sklearn.svm.SVC.html Wyniki proszę podsumować na odpowiednim wykresie lub tabeli. Test skuteczności klasyfikatora proszę dokonać na zbiorze testowym (X_test, y_test)."
   ]
  },
  {
   "cell_type": "code",
   "execution_count": 116,
   "metadata": {},
   "outputs": [
    {
     "data": {
      "text/plain": [
       "[<matplotlib.lines.Line2D at 0x2e1f76fa520>]"
      ]
     },
     "execution_count": 116,
     "metadata": {},
     "output_type": "execute_result"
    },
    {
     "data": {
      "image/png": "[encoded data removed]",
      "text/plain": [
       "<Figure size 432x288 with 1 Axes>"
      ]
     },
     "metadata": {
      "needs_background": "light"
     },
     "output_type": "display_data"
    },
    {
     "data": {
      "image/png": "[encoded data removed]",
      "text/plain": [
       "<Figure size 432x288 with 1 Axes>"
      ]
     },
     "metadata": {
      "needs_background": "light"
     },
     "output_type": "display_data"
    },
    {
     "data": {
      "image/png": "[encoded data removed]",
      "text/plain": [
       "<Figure size 432x288 with 1 Axes>"
      ]
     },
     "metadata": {
      "needs_background": "light"
     },
     "output_type": "display_data"
    }
   ],
   "source": [
    "# YOUR CODE HERE\n",
    "\n",
    "from sklearn.model_selection import train_test_split\n",
    "X = data_input_scaled[:, :2]\n",
    "Y = data_input_scaled[:, 2]\n",
    "\n",
    "best_clf_acc = 0\n",
    "best_clf = None\n",
    "\n",
    "\n",
    "X_train, X_test, y_train, y_test = train_test_split(X,Y,test_size=0.2)\n",
    "cRange = np.arange(.05, 2, .05)\n",
    "aclist = []\n",
    "for c in cRange:\n",
    "    clf = SVC(C=c)\n",
    "    clf.fit(X_train, y_train)\n",
    "    ac = acc(clf, X_test, y_test)\n",
    "    aclist.append(ac)\n",
    "    if best_clf_acc < ac:\n",
    "        best_clf_acc = ac\n",
    "        best_clf = clf\n",
    "plt.figure()\n",
    "plt.xlabel(\"C\")\n",
    "plt.ylabel(\"Skuteczność\")\n",
    "plt.title(\"Kernel gaussa, domyslna gamma\")\n",
    "plt.plot(cRange, aclist)\n",
    "\n",
    "aclist = []\n",
    "for g in cRange:\n",
    "    clf = SVC(gamma=g)\n",
    "    clf.fit(X_train, y_train)\n",
    "    ac = acc(clf, X_test, y_test)\n",
    "    aclist.append(ac)\n",
    "    if best_clf_acc < ac:\n",
    "        best_clf_acc = ac\n",
    "        best_clf = clf\n",
    "    \n",
    "plt.figure()\n",
    "plt.xlabel(\"C\")\n",
    "plt.ylabel(\"Skuteczność\")\n",
    "plt.title(\"Kernel gaussa, C = 1\")\n",
    "plt.plot(cRange, aclist)   \n",
    "\n",
    "aclist = []\n",
    "kernels = ['linear', 'poly', 'rbf', 'sigmoid']\n",
    "for ind, krl in enumerate(kernels):\n",
    "    clf = SVC(kernel=krl)\n",
    "    clf.fit(X_train, y_train)\n",
    "    ac = acc(clf, X_test, y_test)\n",
    "    aclist.append(ac)\n",
    "    if best_clf_acc < ac:\n",
    "        best_clf_acc = ac\n",
    "        best_clf = clf\n",
    "    \n",
    "plt.figure()\n",
    "plt.xlabel(\"C\")\n",
    "plt.ylabel(\"Skuteczność\")\n",
    "plt.title(\"Domyslna gamma, C = 1\")\n",
    "plt.plot(kernels, aclist)   "
   ]
  },
  {
   "cell_type": "markdown",
   "metadata": {},
   "source": [
    "## Zadanie 8"
   ]
  },
  {
   "cell_type": "markdown",
   "metadata": {},
   "source": [
    "Należy wyznaczyć macierze pomyłek dla klasyfikatora. Proszę dokonać wizualizacji wraz z kolorami na wykresie. Przykłady: \n",
    "\n",
    "https://scikit-learn.org/stable/modules/generated/sklearn.metrics.confusion_matrix.html#sklearn.metrics.confusion_matrix\n",
    "\n",
    "https://scikit-learn.org/stable/auto_examples/model_selection/plot_confusion_matrix.html#sphx-glr-auto-examples-model-selection-plot-confusion-matrix-py"
   ]
  },
  {
   "cell_type": "code",
   "execution_count": 118,
   "metadata": {},
   "outputs": [
    {
     "name": "stdout",
     "output_type": "stream",
     "text": [
      "0.8333333333333334\n"
     ]
    },
    {
     "data": {
      "text/plain": [
       "<sklearn.metrics._plot.confusion_matrix.ConfusionMatrixDisplay at 0x2e1f5945ca0>"
      ]
     },
     "execution_count": 118,
     "metadata": {},
     "output_type": "execute_result"
    },
    {
     "data": {
      "image/png": "[encoded data removed]",
      "text/plain": [
       "<Figure size 432x288 with 2 Axes>"
      ]
     },
     "metadata": {
      "needs_background": "light"
     },
     "output_type": "display_data"
    }
   ],
   "source": [
    "#YOUR CODE HERE\n",
    "from sklearn.metrics import confusion_matrix, plot_confusion_matrix\n",
    "X_test, y_test\n",
    "mtx = confusion_matrix(y_test, best_clf.predict(X_test))\n",
    "print(best_clf_acc)\n",
    "plot_confusion_matrix(best_clf, X_test, y_test)"
   ]
  },
  {
   "cell_type": "markdown",
   "metadata": {},
   "source": [
    "Na macierzy widoczne jest że najlepszy klasyfikator popełnił 4 błędy na 24 próbki."
   ]
  },
  {
   "cell_type": "code",
   "execution_count": null,
   "metadata": {},
   "outputs": [],
   "source": []
  }
 ],
 "metadata": {
  "kernelspec": {
   "display_name": "Python 3",
   "language": "python",
   "name": "python3"
  },
  "language_info": {
   "codemirror_mode": {
    "name": "ipython",
    "version": 3
   },
   "file_extension": ".py",
   "mimetype": "text/x-python",
   "name": "python",
   "nbconvert_exporter": "python",
   "pygments_lexer": "ipython3",
   "version": "3.8.3"
  },
  "latex_envs": {
   "LaTeX_envs_menu_present": true,
   "autoclose": false,
   "autocomplete": true,
   "bibliofile": "biblio.bib",
   "cite_by": "apalike",
   "current_citInitial": 1,
   "eqLabelWithNumbers": true,
   "eqNumInitial": 1,
   "hotkeys": {
    "equation": "Ctrl-E",
    "itemize": "Ctrl-I"
   },
   "labels_anchors": false,
   "latex_user_defs": false,
   "report_style_numbering": false,
   "user_envs_cfg": false
  }
 },
 "nbformat": 4,
 "nbformat_minor": 2
}
