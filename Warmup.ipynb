{
 "cells": [
  {
   "cell_type": "markdown",
   "metadata": {},
   "source": [
    "## Wprowadzenie do języka Python"
   ]
  },
  {
   "cell_type": "markdown",
   "metadata": {},
   "source": [
    "1. Podstawowe typy danych.\n",
    "    * Stwórz i wypisz (funkcja print) zmienne zawierające następujące typy danych: **int, float, complex, string, boolean**.\n",
    "    * Czym różnią się **', \", '''** i **\"\"\"** w przypadku stringów?"
   ]
  },
  {
   "cell_type": "code",
   "execution_count": 3,
   "metadata": {},
   "outputs": [
    {
     "name": "stdout",
     "output_type": "stream",
     "text": [
      "1   1.0   (1+1j)   stirng   True\n"
     ]
    }
   ],
   "source": [
    "inte = 1\n",
    "floa = 1.0\n",
    "comple = 1 + 1j\n",
    "strin = \"stirng\"\n",
    "boolea = True;\n",
    "print(inte, ' ', floa, ' ', comple, ' ', strin, ' ', boolea)\n",
    "\n",
    "# Między ' a \" oraz ''' a \"\"\" nie ma różnic, a różnica pomiędzy pojedyńczymi a potrójnymi znakami jest taka, że\n",
    "# potrójne mogą zawierać tekst w wielu liniach;z"
   ]
  },
  {
   "cell_type": "code",
   "execution_count": null,
   "metadata": {},
   "outputs": [],
   "source": []
  },
  {
   "cell_type": "markdown",
   "metadata": {},
   "source": [
    "2. Operatory arytmetyczne.\n",
    "    * Operatory arytmetyczne: **+, -, *, /, //, **, %**.  \n",
    "    * Wyjaśnij znaczenie powyższych operatorów arytmetycznych oraz wykonaj operacje arytmetyczne na dowolnych typach danych i wyświetl wynik.\n",
    "    "
   ]
  },
  {
   "cell_type": "code",
   "execution_count": 9,
   "metadata": {},
   "outputs": [
    {
     "name": "stdout",
     "output_type": "stream",
     "text": [
      "10.5   Część1Część 2\n",
      "4\n",
      "2.5\n",
      "2\n",
      "10   tekstteksttekstteksttekst\n",
      "6\n"
     ]
    }
   ],
   "source": [
    "# MIEJSCE NA ODPOWIEDŹ\n",
    "# + dodawanie liczb i klejenie stringow\n",
    "x = 5 + 5.5\n",
    "y = \"Część1\" + \"Część 2\"\n",
    "print(x, ' ', y)\n",
    "# - odejmowanie\n",
    "x = 5 - 1\n",
    "print(x)\n",
    "# / dzielenie\n",
    "x = 5 / 2\n",
    "print(x)\n",
    "# // dzielenie calkowite\n",
    "x = 5 // 2\n",
    "print(x)\n",
    "# * mnozenie liczb i powielanie stringow\n",
    "x = 5 * 2\n",
    "y = 'tekst' * 5\n",
    "print(x, ' ', y)\n",
    "# % reszta z dzielenia\n",
    "x = 15 % 9\n",
    "print(x)"
   ]
  },
  {
   "cell_type": "markdown",
   "metadata": {},
   "source": [
    "2. Struktury danych. \n",
    "    * Struktury danych: **list, tuple, set, dict**.  \n",
    "    * Dla każdej struktury danych stwórz pustą strukturę, dodaj do niej 3 dowolne elementy, następnie usuń jeden.  \n",
    "    * Jakie są różnice w poszczególnych strukturach?"
   ]
  },
  {
   "cell_type": "code",
   "execution_count": 22,
   "metadata": {},
   "outputs": [
    {
     "name": "stdout",
     "output_type": "stream",
     "text": [
      "[1, 3]\n",
      "()\n",
      "{'c', 'b'}\n",
      "{'a': 1, 'b': 2}\n"
     ]
    }
   ],
   "source": [
    "# MIEJSCE NA ODPOWIEDŹ\n",
    "\n",
    "lista = []\n",
    "lista.append(1)\n",
    "lista.append(2)\n",
    "lista.append(3)\n",
    "lista.remove(2)\n",
    "print(lista)\n",
    "\n",
    "tupla = ()\n",
    "#nie da sie modyfikować\n",
    "print(tupla)\n",
    "\n",
    "zbior = set()\n",
    "zbior.add('a')\n",
    "zbior.add('b')\n",
    "zbior.add('c')\n",
    "zbior.remove('a')\n",
    "print(zbior)\n",
    "\n",
    "slownik = {}\n",
    "slownik['a'] = 1\n",
    "slownik['b'] = 2\n",
    "slownik['c'] = 3\n",
    "del slownik['c']\n",
    "print(slownik)"
   ]
  },
  {
   "cell_type": "markdown",
   "metadata": {},
   "source": [
    "3. Podstawowa kontrola przepływu danych.  \n",
    "    * Zapisz dowolny warunek logiczny z wykorzystaniem instrukcji warunkowych if, elif i else.\n",
    "    * Wypisz liczby od 0 do 10 za pomocą pęli **for i while**\n",
    "    * Napisz kod, który przeiteruje po strukturze list, tak aby wypisać wszystkie elementy wraz z ich pozycjami:  \n",
    "    ```\n",
    "    list = ['element1', 'element2', 'element3']\n",
    "    element1 indeks1\n",
    "    element2 indeks2\n",
    "    element3 indeks3\n",
    "    ```  \n",
    "    Pomocne może być wykorzystanie funkcji **enumerate()**\n",
    "    * Napisz kod, który przeiteruje jednocześnie po dwóch listach i wypisze ich elementy. Zapoznaj się z funkcją **zip()**.  \n",
    "    Czy można przeiterować przez większą ilość struktur danych, niż 2?"
   ]
  },
  {
   "cell_type": "code",
   "execution_count": 36,
   "metadata": {},
   "outputs": [
    {
     "name": "stdout",
     "output_type": "stream",
     "text": [
      "cos innego\n",
      "0\n",
      "1\n",
      "2\n",
      "3\n",
      "4\n",
      "5\n",
      "6\n",
      "7\n",
      "8\n",
      "9\n",
      "10\n",
      "0\n",
      "1\n",
      "2\n",
      "3\n",
      "4\n",
      "5\n",
      "6\n",
      "7\n",
      "8\n",
      "9\n",
      "10\n",
      "0   a\n",
      "1   b\n",
      "2   c\n",
      "1   a\n",
      "2   b\n",
      "3   c\n",
      "1   1\n",
      "2   2\n",
      "3   3\n"
     ]
    }
   ],
   "source": [
    "# MIEJSCE NA ODPOWIEDŹ\n",
    "a = 5\n",
    "if(a == 1):\n",
    "    print('rowne 1')\n",
    "elif(a == 2):\n",
    "    print('rowne 2')\n",
    "else:\n",
    "    print('cos innego')\n",
    "    \n",
    "for i in range(11):\n",
    "    print(i)\n",
    "\n",
    "i = 0\n",
    "while(i <= 10):\n",
    "    print(i)\n",
    "    i+=1\n",
    "    \n",
    "list = ['a', 'b', 'c']\n",
    "enumerated = enumerate(list)\n",
    "for i,j in enumerated:\n",
    "    print(i, ' ', j)\n",
    "\n",
    "list1 = [1, 2, 3]\n",
    "list2 = ['a', 'b', 'c']\n",
    "list3 = ['1', '2', '3']\n",
    "for i in zip(list1, list2):\n",
    "    print(i[0], ' ', i[1])\n",
    "\n",
    "# Można, trzeba wpisać więcej argumentow do funkcji zip"
   ]
  },
  {
   "cell_type": "markdown",
   "metadata": {},
   "source": [
    "4. Comprehensions\n",
    "    * Stwórz listę zawierającą liczby o 0 do 20, następnie na jej podstawie stwórz listę liczb parzystych bez wykorzystania pętli. (List Comprehension)\n",
    "    * Stwórz słownik (dict), w którym kluczami będą kolejne liczby z zakresu od 0 do 20, a wartościami kwadrat wartości klucza. Nie korzystaj z pętli. (Dictionary Comprehension)\n",
    "    ```\n",
    "    {0: 0, 1: 1, 2: 4, 3: 9, ...}\n",
    "    ```"
   ]
  },
  {
   "cell_type": "code",
   "execution_count": 40,
   "metadata": {},
   "outputs": [
    {
     "name": "stdout",
     "output_type": "stream",
     "text": [
      "[0, 2, 4, 6, 8, 10, 12, 14, 16, 18, 20]\n",
      "[0, 1, 4, 9, 16, 25, 36, 49, 64, 81, 100, 121, 144, 169, 196, 225, 256, 289, 324, 361, 400]\n"
     ]
    }
   ],
   "source": [
    "# MIEJSCE NA ODPOWIEDŹ\n",
    "x = range(21)\n",
    "parzyste = [i for i in x if i % 2 == 0]\n",
    "print(parzyste)\n",
    "kwadraty = [i*i for i in x]\n",
    "print(kwadraty)"
   ]
  },
  {
   "cell_type": "markdown",
   "metadata": {},
   "source": [
    "5. Funkcje\n",
    "    * Napisz funkcje wykonujące operacje dodawania, odejmowania, mnożenia dla dwóch argumentów.\n",
    "    * Rozwiń funkcje, aby wykonywały operacje dla dowolnej ilości argumentów."
   ]
  },
  {
   "cell_type": "code",
   "execution_count": 48,
   "metadata": {},
   "outputs": [
    {
     "name": "stdout",
     "output_type": "stream",
     "text": [
      "1005\n"
     ]
    }
   ],
   "source": [
    "# MIEJSCE NA ODPOWIEDŹ\n",
    "def dod(x,y):\n",
    "    return x+y\n",
    "def od(x,y):\n",
    "    return x-y\n",
    "def mn(x,y):\n",
    "    return x*y\n",
    "\n",
    "def dodD(*x):\n",
    "    suma = 0\n",
    "    for i in x:\n",
    "        suma += i\n",
    "    return suma\n",
    "\n",
    "def odD(x, *y):\n",
    "    for i in y:\n",
    "        x -= i\n",
    "    return x\n",
    "\n",
    "def mnD(*x):\n",
    "    wynik = 1\n",
    "    for i in x:\n",
    "        wynik *= i\n",
    "    return wynik\n",
    "\n",
    "print(mnD(1,3,5,67))\n",
    "    "
   ]
  },
  {
   "cell_type": "markdown",
   "metadata": {},
   "source": [
    "6. Obsługa plików\n",
    "    * Stwórz listę z liczbami od 1 do 20, następnie stwórz plik o nazwie \"plik.txt\", który w pierwszej lini będzie zawierał zdanie: \"Praca z plikiem.\", a w kolejnych liniach elementy z listy. Na końcu zamknij plik.\n",
    "    * Otwórz wcześniej stworzony plik i wypisz jego zawartość.\n",
    "    * Jakie są tryby otwierania pliku i co oznaczają?\n",
    "    * Czym różni się konstrukcja obsługi pliku ze słowem kluczowym `with`?\n",
    "    "
   ]
  },
  {
   "cell_type": "code",
   "execution_count": 54,
   "metadata": {},
   "outputs": [
    {
     "name": "stdout",
     "output_type": "stream",
     "text": [
      "Praca z plikiem.\n",
      "0\n",
      "1\n",
      "2\n",
      "3\n",
      "4\n",
      "5\n",
      "6\n",
      "7\n",
      "8\n",
      "9\n",
      "10\n",
      "11\n",
      "12\n",
      "13\n",
      "14\n",
      "15\n",
      "16\n",
      "17\n",
      "18\n",
      "19\n",
      "20\n",
      "\n"
     ]
    }
   ],
   "source": [
    "# MIEJSCE NA ODPOWIEDŹ\n",
    "x = range(21)\n",
    "\n",
    "plik = open('plik.txt', 'w')\n",
    "plik.write('Praca z plikiem.\\n')\n",
    "for i in x:\n",
    "    plik.write(str(i)+'\\n')\n",
    "plik.close()\n",
    "\n",
    "plik = open('plik.txt', 'r')\n",
    "print(plik.read())\n",
    "plik.close()\n",
    "\n",
    "#Tryby otwierania plików\n",
    "# r - odczyt\n",
    "# w - zapis\n",
    "# a - dopisywanie\n",
    "# x - zapis ale jesli plik istnieje zwroci blad\n",
    "# dopisanie + sprawi że plik otworzy się w trybie odczytu i zapisu\n",
    "# dopisanie b sprawi ze plik otworzy sie w trybie binarnym\n",
    "\n",
    "# użycie with sprawi że plik zamknie się automatycznie po wyjściu z klauzuli\n",
    "    "
   ]
  },
  {
   "cell_type": "markdown",
   "metadata": {},
   "source": [
    "7. Klasy"
   ]
  }
 ],
 "metadata": {
  "kernelspec": {
   "display_name": "Python 3",
   "language": "python",
   "name": "python3"
  },
  "language_info": {
   "codemirror_mode": {
    "name": "ipython",
    "version": 3
   },
   "file_extension": ".py",
   "mimetype": "text/x-python",
   "name": "python",
   "nbconvert_exporter": "python",
   "pygments_lexer": "ipython3",
   "version": "3.8.3"
  }
 },
 "nbformat": 4,
 "nbformat_minor": 4
}
