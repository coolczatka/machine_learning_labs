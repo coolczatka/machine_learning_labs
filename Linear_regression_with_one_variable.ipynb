{
 "cells": [
  {
   "cell_type": "markdown",
   "metadata": {},
   "source": [
    "## Przygotowanie\n",
    "\n",
    "Przed rozpoczęciem pracy z notatnikiem proszę zmienić jego nazwę dodając na początku numer albumu, imię i nazwisko.\n",
    "{nr_albumu}\\_{imię}\\_{nazwisko}\\_{nazwa}\n",
    "\n",
    "Po wykonaniu wszystkich zadań proszę przesłać wypełniony notatnik przez platformę ELF za pomocą formularza \"Prześlij projekt\" w odpowiedniej sekcji. "
   ]
  },
  {
   "cell_type": "markdown",
   "metadata": {},
   "source": [
    "## Regresja liniowa prosta\n",
    "\n",
    "Regresja liniowa prosta, to szczególny przypadek regresji liniowej, w którym zmienną objaśnaną przewidujemy za pomocą jednej zmiennej objaśniającej. Zadanie będzie polegało na wyznaczeniu funkcji regresji opisującej zależność zarobków od lat doświadczenia. \n",
    "\n",
    "Zbiór danych do tego zadania, to Salary.csv. Znajduje się w katalogu datasets.\n",
    "W zbiorze danych znajduje się 35 obserwacji. Każdy wpis jest osobną obserwacją. W zbiorze znajdują się 3 kolumny: YearsExperience, Age i Salary. W pierwszym zadaniu należy wykorzystać YearsExperience i Salary, pomijając Age."
   ]
  },
  {
   "cell_type": "markdown",
   "metadata": {},
   "source": [
    "### Zadanie 1\n",
    "\n",
    "Wczytaj dane z pliku Salary.csv, a następnie stwórz wykres przedstawiający obserwacje."
   ]
  },
  {
   "cell_type": "code",
   "execution_count": 65,
   "metadata": {},
   "outputs": [
    {
     "data": {
      "text/plain": [
       "[<matplotlib.lines.Line2D at 0x1fb288a8bb0>]"
      ]
     },
     "execution_count": 65,
     "metadata": {},
     "output_type": "execute_result"
    },
    {
     "data": {
      "image/png": "[encoded data removed]",
      "text/plain": [
       "<Figure size 432x288 with 1 Axes>"
      ]
     },
     "metadata": {
      "needs_background": "light"
     },
     "output_type": "display_data"
    }
   ],
   "source": [
    "import pandas as pd\n",
    "import matplotlib.pyplot as plt\n",
    "\n",
    "df = pd.read_csv('datasets/Salary.csv', sep=',')\n",
    "x = df['YearsExperience'].values.reshape(df['YearsExperience'].shape[0], 1)\n",
    "y = df['Salary'].values.reshape(df['Salary'].shape[0], 1)\n",
    "\n",
    "# YOUR CODE HERE\n",
    "plt.plot(x,y,'ro')"
   ]
  },
  {
   "cell_type": "markdown",
   "metadata": {},
   "source": [
    "### Zadanie 2\n",
    "\n",
    "Implementacja algorytmu regresji liniowej prostej.\n",
    "\n",
    "Żeby dobrze zrozumieć zapis matematyczny, który początkowo może sprawiać problemy, przejdziemy po kolei po elementach składowych algorytmu. Następnie złączymy elementy w całość.\n",
    "\n",
    "Wzór na regresję liniową w naszym przypadku będzie wyglądał następująco:\n",
    "\n",
    "\\begin{equation}\n",
    "f(x^{(i)}) = \\beta_{0} + \\beta_{1}x_1 = \\beta_{0} + \\beta_{1}  YearsExperience\n",
    "\\end{equation}\n",
    "\n",
    "Przypomnijmy, że zapis $x^{(i)}$ oznacza wektor dla $i$-tej obserwacji. W naszym przypadku ten wektor będzie zawierał tylko $1$ wartość dla cechy $YearsExperience$.\n",
    "\n",
    "\n",
    "_Uwaga: W różnych źródłach algorytm regresji liniowej ma różne zapisy. Czasem podawane są wzory w postaci z sumą, czasem w postaci macierzowej. Jest to spowodowane tym, że algorytm można zaimplementować na te dwa sposoby. Łatwiejszym i bardziej intuicyjnym podejściem jest podejście z sumą, która bezpośrednio sugeruje wykokrzystanie pętli w celu iteracji po obserwacjach/cechach. Implementacja z wykorzystaniem macierzy jest zwykle krótksza i \"bardziej elegancka\", ale również bardziej wydajna. Aby dobrze zrozumieć działanie algorytmu, najlepiej jest zaimplementować obie wersje i porównać je ze sobą._\n"
   ]
  },
  {
   "cell_type": "markdown",
   "metadata": {},
   "source": [
    "#### 2.1 Inicjalizacja współczynników $\\beta$ regresji\n",
    "\n",
    "Pierwszym krokiem jest inicjalizacja współczynników regresji. W przypadku regresji liniowej prostej mamy dwa współczynniki $\\beta_{0}$ i $\\beta_{1}$. Stwórz dwie zmienne będące współczynnikami regresji liniowej prostej i zainicjalizuj je losowymi wartościami z przedziału $(0,1)$.\n",
    "\n",
    "Dodatkowo stwórz zmienną *alpha*, która przyjmie wartość od $(0,1)$. Możesz ustawić ją ręcznie i sprawdzać jak różne wartości mają wpływ na regresję. "
   ]
  },
  {
   "cell_type": "code",
   "execution_count": 66,
   "metadata": {},
   "outputs": [
    {
     "name": "stdout",
     "output_type": "stream",
     "text": [
      "0.3603612758136162 0.35604940996208023 0.01\n"
     ]
    }
   ],
   "source": [
    "# YOUR CODE HERE\n",
    "from random import random\n",
    "\n",
    "B0 = random()\n",
    "B1 = random()\n",
    "alfa = 0.01\n",
    "print(B0, B1, alfa)"
   ]
  },
  {
   "cell_type": "markdown",
   "metadata": {},
   "source": [
    "#### 2.2 Obliczenie predykcji\n",
    "\n",
    "Kolejnym krokiem jest obliczenie wartości funkcji regresji dla wszystkich obserwacji w zbiorze danych. Jest to po prostu wstawienie kolejnych wartości pod wzrór regresji.\n",
    "\n",
    "\\begin{equation}\n",
    "f(x) = \\beta_{0} + \\beta_{1}x_1\n",
    "\\end{equation}\n",
    "\n",
    "Można zrobić to z wykorzystaniem operacji na macierzach (wektorach), albo z wykorzystaniem klasycznej iteracji. "
   ]
  },
  {
   "cell_type": "code",
   "execution_count": 67,
   "metadata": {},
   "outputs": [],
   "source": [
    "# YOUR CODE HERE\n",
    "def f(x, B0, B1):\n",
    "    return B0+B1*x\n",
    "\n",
    "fx = [f(i, B0, B1) for i in x]"
   ]
  },
  {
   "cell_type": "markdown",
   "metadata": {},
   "source": [
    "#### 2.3 Obliczenie błędu\n",
    "\n",
    "Obliczenie wartości błędu regresji nie jest konieczne do aktualizacji wag, jednak jest to bardzo cenna informacja czy nasz algorytm działa poprawnie. Wartość błędu nie może rosnąć w kolejnych epokach.\n",
    "\n",
    "Błąd należy obliczyć zgodnie ze wzorem:\n",
    "\n",
    "\\begin{equation}\n",
    "    SSR = \\frac{1}{2m} \\sum_{i=1}^{m}(f(x^{(i)}) - y^{(i)})^2\n",
    "\\end{equation}"
   ]
  },
  {
   "cell_type": "code",
   "execution_count": 68,
   "metadata": {},
   "outputs": [
    {
     "name": "stdout",
     "output_type": "stream",
     "text": [
      "[4.02198749e+09]\n"
     ]
    }
   ],
   "source": [
    "# YOUR CODE HERE\n",
    "def SSR(x,y, B0, B1):\n",
    "    ssr = 0\n",
    "    for xi, yi in zip(x,y):\n",
    "        skladnik = ((f(xi, B0, B1)-yi)**2)\n",
    "        ssr += skladnik\n",
    "    ssr = ssr/(2*len(x))\n",
    "    return ssr\n",
    "print(SSR(x,y, B0, B1))"
   ]
  },
  {
   "cell_type": "markdown",
   "metadata": {},
   "source": [
    "#### 2.4 Obliczenie gradientu \n",
    "\n",
    "Żeby obliczyć gradient, należy obliczyć pochodne cząstkowe względem parametrów $\\beta_{0}$ i $\\beta_{1}$.\n",
    "\n",
    "\\begin{equation}\n",
    "    \\frac{\\partial SSR}{\\partial \\beta_{0}} = \\frac{1}{m} \\sum^{m}_{i=1} (f(x^{(i)}) - y^{(i)})\n",
    "\\end{equation}\n",
    "\n",
    "\\begin{equation}\n",
    "    \\frac{\\partial SSR}{\\partial \\beta_{1}} = \\frac{1}{m} \\sum^{m}_{i=1} (f(x^{(i)}) - y^{(i)})x_{1}^{(i)}\n",
    "\\end{equation}\n",
    "\n",
    "Tutaj ponownie jak wcześniej można wykorzystać operacje na macierzach, lub iteracyjnie obliczyć sumę."
   ]
  },
  {
   "cell_type": "code",
   "execution_count": 69,
   "metadata": {},
   "outputs": [
    {
     "name": "stdout",
     "output_type": "stream",
     "text": [
      "[array([-83885.82204702]), array([-640445.03610194])]\n"
     ]
    }
   ],
   "source": [
    "# YOUR CODE HERE\n",
    "def dSSRdB0(x,y, B0, B1):\n",
    "    result = sum([f(xi, B0, B1)-yi for xi,yi in zip(x,y)])\n",
    "    result = result/(len(x))\n",
    "    return result\n",
    "def dSSRdB1(x,y, B0, B1):\n",
    "    result = sum([(f(xi, B0, B1)-yi)*xi for xi,yi in zip(x,y)])\n",
    "    result = result/(len(x))\n",
    "    return result\n",
    "\n",
    "grad = [dSSRdB0(x,y,B0,B1), dSSRdB1(x,y,B0,B1)]\n",
    "print(grad)"
   ]
  },
  {
   "cell_type": "markdown",
   "metadata": {},
   "source": [
    "####  2.5 Aktualizacja współczynników regresji (wag)\n",
    "\n",
    "Po obliczeniu pochodnych cząstkowych należy obliczyć nowe wartości dla współczynników regresji.\n",
    "\n",
    "\n",
    "\\begin{equation}\n",
    "    \\beta_{0} = \\beta_{0} - \\alpha \\frac{\\partial SSR}{\\partial \\beta_{0}} \n",
    "\\end{equation}\n",
    "\n",
    "\\begin{equation}\n",
    "    \\beta_{1} = \\beta_{1} - \\alpha \\frac{\\partial SSR}{\\partial \\beta_{1}} \n",
    "\\end{equation}"
   ]
  },
  {
   "cell_type": "code",
   "execution_count": 70,
   "metadata": {},
   "outputs": [
    {
     "name": "stdout",
     "output_type": "stream",
     "text": [
      "[839.21858175] [7243.66894277]\n",
      "[7.29060029e+08]\n"
     ]
    }
   ],
   "source": [
    "# YOUR CODE HERE\n",
    "B0 = B0 - alfa * grad[0]\n",
    "B1 = B0 - alfa * grad[1]\n",
    "\n",
    "print(B0, B1)\n",
    "\n",
    "print(SSR(x,y,B0,B1))"
   ]
  },
  {
   "cell_type": "markdown",
   "metadata": {},
   "source": [
    "#### 2.6 Finalna wersja algorytmu\n",
    "\n",
    "Powyższe działania, to wszystkie elementy potrzebne do stworzenia algorytmu regresji liniowej prostej. Jeden cykl takich operacji nazywany jest **epoką**. Idea obliczania współczynników regresji z wykorzystaniem gradientu polega na iteracyjnym aktualizowaniu współczynników do momentu, aż błąd przestanie znacznie się zmieniać. Można również ustawić jakaś stałą ilość epok. W każdej epoce wykorzystuje się ponownie ten sam zestaw danych.\n",
    "\n",
    "Skoro wiadomo już jakie pojedyncze etapy należy wykonać, żeby obliczyć regresję liniową prostą, przyszedł czas na zebranie wszystkiego w jednym miejscu.\n",
    "\n",
    "Proszę zaimplementować funkcję `learn_and_fit(x, y)`, która dla danych wejściowych będzie zwracać współczynniki regresji w każdej z epok. Dodatkowo proszę zwracać również błąd regresji w każdej epoce. Funkcja może być zaimplementowana w dowolny sposób. Może bezpośrednio zawierać wszystkie instrukcje, może korzystać z innych funkcji pomocniczych albo może korzystać z klasy reprezentującą regresję liniową prostą. \n",
    "\n",
    "Na końcu notebooka znajduje się test jednostkowy, który musi przechodzić przy prawidłowej implementacji algorytmu."
   ]
  },
  {
   "cell_type": "code",
   "execution_count": 71,
   "metadata": {},
   "outputs": [
    {
     "name": "stdout",
     "output_type": "stream",
     "text": [
      "B0 = [27956.80052209] ; B1 = [8837.30970702]\n"
     ]
    }
   ],
   "source": [
    "'''\n",
    "input:\n",
    "x - wartości zmiennej objaśniającej YearsExperience dla wszystkich obserwacji\n",
    "y - wartości zmiennej objaśnianej Salary dla wszystkich obserwacji\n",
    "\n",
    "output:\n",
    "b0: [] - lista z współczynnikami beta_0 w każdej z epok\n",
    "b1: [] - lista z współczynnikami beta_1 w każdej z epok\n",
    "error: [] - lista z błędem w każdej epoce\n",
    "'''\n",
    "\n",
    "\n",
    "def learn_and_fit(x, y):\n",
    "    b0 = [random()]\n",
    "    b1 = [random()]\n",
    "    error = [SSR(x,y,b0[0],b1[0])]\n",
    "    \n",
    "    epoch = 3000\n",
    "    # YOUR CODE HERE\n",
    "    for i in range(epoch):\n",
    "        B0 = b0[-1]\n",
    "        B1 = b1[-1]\n",
    "\n",
    "        gradient = [dSSRdB0(x,y,B0,B1), dSSRdB1(x,y,B0,B1)]\n",
    "        alfa = 0.005\n",
    "        B0 = B0 - alfa * gradient[0]\n",
    "        B1 = B1 - alfa * gradient[1]\n",
    "        ssr = SSR(x,y,B0,B1)\n",
    "\n",
    "        b0.append(B0)\n",
    "        b1.append(B1)\n",
    "        error.append(ssr)\n",
    "    \n",
    "    return b0, b1, error\n",
    "\n",
    "wsp = learn_and_fit(x,y)\n",
    "print(f'B0 = {wsp[0][-1]} ; B1 = {wsp[1][-1]}')"
   ]
  },
  {
   "cell_type": "markdown",
   "metadata": {},
   "source": [
    "### Zadanie 3\n",
    "\n",
    "Do wykresu stworzonego w zadaniu 1 dodaj prostą regresji. Pokaż w formie animacji, jak zmieniała się funkcja regresji na przestrzeni epok."
   ]
  },
  {
   "cell_type": "code",
   "execution_count": null,
   "metadata": {},
   "outputs": [],
   "source": [
    "from matplotlib import animation, rc\n",
    "from IPython.display import HTML\n",
    "\n",
    "fig, ax = plt.subplots()\n",
    "ax.plot(x, y, \"ro\")\n",
    "line, = ax.plot([], [], \"b-\", lw=2)\n",
    "\n",
    "plt.xlabel('YearsExperience')\n",
    "plt.ylabel('Salary')\n",
    "res = []\n",
    "\n",
    "for i in range(len(wsp[0])):\n",
    "    res.append([f(x[0][0], wsp[0][i], wsp[1][i]), f(x[-1][0], wsp[0][i], wsp[1][i])])\n",
    "\n",
    "def init():\n",
    "    line.set_data([x[0][0], x[-1][0]], [0,0])\n",
    "    return (line,)\n",
    "\n",
    "def update(i):\n",
    "    line.set_ydata(res[i*10])\n",
    "    return (line,)\n",
    "anim = animation.FuncAnimation(fig, update, init_func=init,\n",
    "                               frames=300, interval=50, blit=True)\n",
    "\n",
    "HTML(anim.to_html5_video())\n"
   ]
  },
  {
   "cell_type": "markdown",
   "metadata": {},
   "source": [
    "### Testy jednostkowe"
   ]
  },
  {
   "cell_type": "code",
   "execution_count": null,
   "metadata": {},
   "outputs": [],
   "source": [
    "import unittest\n",
    "import pandas as pd\n",
    "\n",
    "class SimpleLinearRegressionTest(unittest.TestCase):\n",
    "    \n",
    "    def test_learn_and_fit(self):\n",
    "        df = pd.read_csv('datasets/Salary.csv', sep=',')\n",
    "        x = df['YearsExperience'].values.reshape(df['YearsExperience'].shape[0], 1)\n",
    "        y = df['Salary'].values.reshape(df['Salary'].shape[0], 1)\n",
    "        \n",
    "        b0, b1, error = learn_and_fit(x, y)\n",
    "        \n",
    "        self.assertTrue(len(b0) > 1)\n",
    "        self.assertTrue(len(b1) > 1)\n",
    "        self.assertTrue(len(b0) == len(b1))\n",
    "        self.assertTrue(all(i >= j for i, j in zip(error, error[1:]))) #Sprawdzenie, czy błędy nie rosną\n",
    "        \n",
    "unittest.main(argv=[''], verbosity=2, exit=False)"
   ]
  },
  {
   "cell_type": "code",
   "execution_count": null,
   "metadata": {},
   "outputs": [],
   "source": []
  }
 ],
 "metadata": {
  "kernelspec": {
   "display_name": "Python 3",
   "language": "python",
   "name": "python3"
  },
  "language_info": {
   "codemirror_mode": {
    "name": "ipython",
    "version": 3
   },
   "file_extension": ".py",
   "mimetype": "text/x-python",
   "name": "python",
   "nbconvert_exporter": "python",
   "pygments_lexer": "ipython3",
   "version": "3.8.3"
  }
 },
 "nbformat": 4,
 "nbformat_minor": 4
}
